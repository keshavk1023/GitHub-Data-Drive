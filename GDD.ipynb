{
 "cells": [
  {
   "cell_type": "code",
   "execution_count": 6,
   "metadata": {},
   "outputs": [],
   "source": [
    "import requests\n",
    "import pandas as pd\n",
    "import mysql.connector as db\n",
    "import numpy as np\n",
    "from datetime import datetime\n"
   ]
  },
  {
   "cell_type": "code",
   "execution_count": 28,
   "metadata": {},
   "outputs": [],
   "source": [
    "import pymysql\n",
    "\n",
    "mydb = pymysql.connect(\n",
    "    host='localhost',\n",
    "    user='root',\n",
    "    password='Ke$hw0rd-12345',\n",
    "    database='gitdata'\n",
    ")\n",
    "mycursor = mydb.cursor()"
   ]
  },
  {
   "cell_type": "code",
   "execution_count": 8,
   "metadata": {},
   "outputs": [],
   "source": [
    "# Topics to fetch data for\n",
    "topics = [\"Gen AI\",\"Powerbi\", \"deep learning\", \"MLOps\",\n",
    "          \"Quantum Computing\", \"python\",\n",
    "          \"machine learning\",\"robotics\"]"
   ]
  },
  {
   "cell_type": "code",
   "execution_count": 9,
   "metadata": {},
   "outputs": [
    {
     "name": "stdout",
     "output_type": "stream",
     "text": [
      "                 Repository_Name                Owner  \\\n",
      "0    generative-ai-for-beginners            microsoft   \n",
      "1              generative-models         Stability-AI   \n",
      "2                        danswer           danswer-ai   \n",
      "3    awesome-generative-ai-guide          aishwaryanr   \n",
      "4                  generative-ai  GoogleCloudPlatform   \n",
      "..                           ...                  ...   \n",
      "235        awesome-multimodal-ml            pliang279   \n",
      "236              node-serialport           serialport   \n",
      "237                 ai-deadlines       paperswithcode   \n",
      "238                    OpenMower       ClemensElflein   \n",
      "239             awesome-robotics             kiloreux   \n",
      "\n",
      "                                           Description  \\\n",
      "0    21 Lessons, Get Started Building with Generati...   \n",
      "1                    Generative Models by Stability AI   \n",
      "2    Gen-AI Chat for Teams - Think ChatGPT if it ha...   \n",
      "3    A one stop repository for generative AI resear...   \n",
      "4    Sample code and notebooks for Generative AI on...   \n",
      "..                                                 ...   \n",
      "235  Reading list for research topics in multimodal...   \n",
      "236  Access serial ports with JavaScript. Linux, OS...   \n",
      "237   :alarm_clock: AI conference deadline countdowns    \n",
      "238  Let's upgrade cheap off-the-shelf robotic mowe...   \n",
      "239               A list of awesome Robotics resources   \n",
      "\n",
      "                                                   URL Programming_Language  \\\n",
      "0    https://github.com/microsoft/generative-ai-for...     Jupyter Notebook   \n",
      "1    https://github.com/Stability-AI/generative-models               Python   \n",
      "2                https://github.com/danswer-ai/danswer               Python   \n",
      "3    https://github.com/aishwaryanr/awesome-generat...                 None   \n",
      "4    https://github.com/GoogleCloudPlatform/generat...     Jupyter Notebook   \n",
      "..                                                 ...                  ...   \n",
      "235  https://github.com/pliang279/awesome-multimoda...                 None   \n",
      "236      https://github.com/serialport/node-serialport           TypeScript   \n",
      "237     https://github.com/paperswithcode/ai-deadlines           JavaScript   \n",
      "238        https://github.com/ClemensElflein/OpenMower                    C   \n",
      "239       https://github.com/kiloreux/awesome-robotics                 None   \n",
      "\n",
      "            Creation_Date     Last_Updated_Date  Number_of_Stars  \\\n",
      "0    2023-06-19T16:28:59Z  2024-10-14T09:24:45Z            64116   \n",
      "1    2023-06-22T00:36:35Z  2024-10-14T09:10:12Z            24342   \n",
      "2    2023-04-27T06:04:01Z  2024-10-14T06:33:13Z            10458   \n",
      "3    2024-02-06T18:14:14Z  2024-10-14T08:42:38Z             8631   \n",
      "4    2023-05-05T12:31:07Z  2024-10-14T08:07:42Z             7056   \n",
      "..                    ...                   ...              ...   \n",
      "235  2019-05-27T23:03:48Z  2024-10-14T07:55:19Z             5966   \n",
      "236  2010-09-07T12:24:28Z  2024-10-13T02:01:20Z             5806   \n",
      "237  2016-11-18T23:11:12Z  2024-10-14T09:16:43Z             5630   \n",
      "238  2022-01-26T15:24:24Z  2024-10-13T18:10:14Z             4664   \n",
      "239  2015-11-26T16:53:05Z  2024-10-14T05:02:28Z             4276   \n",
      "\n",
      "     Number_of_Forks  Number_of_Open_Issues        License_Type  \n",
      "0              32509                     15         MIT License  \n",
      "1               2709                    299         MIT License  \n",
      "2               1265                    405               Other  \n",
      "3               1888                      1         MIT License  \n",
      "4               1901                     53  Apache License 2.0  \n",
      "..               ...                    ...                 ...  \n",
      "235              852                      7         MIT License  \n",
      "236             1007                    171         MIT License  \n",
      "237              963                     40         MIT License  \n",
      "238              278                     23               Other  \n",
      "239              813                     12               Other  \n",
      "\n",
      "[240 rows x 11 columns]\n"
     ]
    }
   ],
   "source": [
    "def fetch_github_data(topic):\n",
    "    url = f\"https://api.github.com/search/repositories?q={topic}&sort=stars\"\n",
    "    response = requests.get(url)\n",
    "    if response.status_code == 200:\n",
    "        return response.json()\n",
    "    else:\n",
    "        print(f\"Failed to fetch data for {topic}\")\n",
    "        return None\n",
    "\n",
    "# Extract data for all topics\n",
    "data_list = []\n",
    "for topic in topics:\n",
    "    data = fetch_github_data(topic)\n",
    "    if data:\n",
    "        for item in data['items']:\n",
    "            data_list.append({\n",
    "                'Repository_Name': item['name'],\n",
    "                'Owner': item['owner']['login'],\n",
    "                'Description': item['description'],\n",
    "                'URL': item['html_url'],\n",
    "                'Programming_Language': item.get('language', 'Unknown'),\n",
    "                'Creation_Date': item['created_at'],\n",
    "                'Last_Updated_Date': item['updated_at'],\n",
    "                'Number_of_Stars': item['stargazers_count'],\n",
    "                'Number_of_Forks': item['forks_count'],\n",
    "                'Number_of_Open_Issues': item['open_issues_count'],\n",
    "                'License_Type': item['license']['name'] if item['license'] else 'No License'\n",
    "            })\n",
    "\n",
    "df = pd.DataFrame(data_list)\n",
    "df.to_csv('github_repositor.csv', index=False)\n",
    "print(df)"
   ]
  },
  {
   "cell_type": "code",
   "execution_count": 12,
   "metadata": {},
   "outputs": [
    {
     "data": {
      "text/plain": [
       "(240, 11)"
      ]
     },
     "execution_count": 12,
     "metadata": {},
     "output_type": "execute_result"
    }
   ],
   "source": [
    "# Data Cleaning\n",
    "df.shape"
   ]
  },
  {
   "cell_type": "code",
   "execution_count": 14,
   "metadata": {},
   "outputs": [
    {
     "name": "stdout",
     "output_type": "stream",
     "text": [
      "<class 'pandas.core.frame.DataFrame'>\n",
      "RangeIndex: 240 entries, 0 to 239\n",
      "Data columns (total 11 columns):\n",
      " #   Column                 Non-Null Count  Dtype \n",
      "---  ------                 --------------  ----- \n",
      " 0   Repository_Name        240 non-null    object\n",
      " 1   Owner                  240 non-null    object\n",
      " 2   Description            235 non-null    object\n",
      " 3   URL                    240 non-null    object\n",
      " 4   Programming_Language   202 non-null    object\n",
      " 5   Creation_Date          240 non-null    object\n",
      " 6   Last_Updated_Date      240 non-null    object\n",
      " 7   Number_of_Stars        240 non-null    int64 \n",
      " 8   Number_of_Forks        240 non-null    int64 \n",
      " 9   Number_of_Open_Issues  240 non-null    int64 \n",
      " 10  License_Type           240 non-null    object\n",
      "dtypes: int64(3), object(8)\n",
      "memory usage: 20.8+ KB\n"
     ]
    }
   ],
   "source": [
    "df.info() # show full info\n"
   ]
  },
  {
   "cell_type": "code",
   "execution_count": 18,
   "metadata": {},
   "outputs": [
    {
     "data": {
      "text/plain": [
       "Repository_Name           0\n",
       "Owner                     0\n",
       "Description               0\n",
       "URL                       0\n",
       "Programming_Language     38\n",
       "Creation_Date             0\n",
       "Last_Updated_Date         0\n",
       "Number_of_Stars           0\n",
       "Number_of_Forks           0\n",
       "Number_of_Open_Issues     0\n",
       "License_Type              0\n",
       "dtype: int64"
      ]
     },
     "execution_count": 18,
     "metadata": {},
     "output_type": "execute_result"
    }
   ],
   "source": [
    "df.isna().sum() # check null"
   ]
  },
  {
   "cell_type": "code",
   "execution_count": 17,
   "metadata": {},
   "outputs": [
    {
     "name": "stdout",
     "output_type": "stream",
     "text": [
      "               Repository_Name                Owner  \\\n",
      "0  generative-ai-for-beginners            microsoft   \n",
      "1            generative-models         Stability-AI   \n",
      "2                      danswer           danswer-ai   \n",
      "3  awesome-generative-ai-guide          aishwaryanr   \n",
      "4                generative-ai  GoogleCloudPlatform   \n",
      "\n",
      "                                         Description  \\\n",
      "0  21 Lessons, Get Started Building with Generati...   \n",
      "1                  Generative Models by Stability AI   \n",
      "2  Gen-AI Chat for Teams - Think ChatGPT if it ha...   \n",
      "3  A one stop repository for generative AI resear...   \n",
      "4  Sample code and notebooks for Generative AI on...   \n",
      "\n",
      "                                                 URL Programming_Language  \\\n",
      "0  https://github.com/microsoft/generative-ai-for...     Jupyter Notebook   \n",
      "1  https://github.com/Stability-AI/generative-models               Python   \n",
      "2              https://github.com/danswer-ai/danswer               Python   \n",
      "3  https://github.com/aishwaryanr/awesome-generat...                 None   \n",
      "4  https://github.com/GoogleCloudPlatform/generat...     Jupyter Notebook   \n",
      "\n",
      "              Creation_Date         Last_Updated_Date  Number_of_Stars  \\\n",
      "0 2023-06-19 16:28:59+00:00 2024-10-14 09:24:45+00:00            64116   \n",
      "1 2023-06-22 00:36:35+00:00 2024-10-14 09:10:12+00:00            24342   \n",
      "2 2023-04-27 06:04:01+00:00 2024-10-14 06:33:13+00:00            10458   \n",
      "3 2024-02-06 18:14:14+00:00 2024-10-14 08:42:38+00:00             8631   \n",
      "4 2023-05-05 12:31:07+00:00 2024-10-14 08:07:42+00:00             7056   \n",
      "\n",
      "   Number_of_Forks  Number_of_Open_Issues        License_Type  \n",
      "0            32509                     15         MIT License  \n",
      "1             2709                    299         MIT License  \n",
      "2             1265                    405               Other  \n",
      "3             1888                      1         MIT License  \n",
      "4             1901                     53  Apache License 2.0  \n"
     ]
    },
    {
     "name": "stderr",
     "output_type": "stream",
     "text": [
      "C:\\Users\\kkeshav\\AppData\\Local\\Temp\\ipykernel_3888\\1911430551.py:7: FutureWarning: A value is trying to be set on a copy of a DataFrame or Series through chained assignment using an inplace method.\n",
      "The behavior will change in pandas 3.0. This inplace method will never work because the intermediate object on which we are setting values always behaves as a copy.\n",
      "\n",
      "For example, when doing 'df[col].method(value, inplace=True)', try using 'df.method({col: value}, inplace=True)' or df[col] = df[col].method(value) instead, to perform the operation inplace on the original object.\n",
      "\n",
      "\n",
      "  df['Description'].fillna('No Description', inplace=True)\n",
      "C:\\Users\\kkeshav\\AppData\\Local\\Temp\\ipykernel_3888\\1911430551.py:8: FutureWarning: A value is trying to be set on a copy of a DataFrame or Series through chained assignment using an inplace method.\n",
      "The behavior will change in pandas 3.0. This inplace method will never work because the intermediate object on which we are setting values always behaves as a copy.\n",
      "\n",
      "For example, when doing 'df[col].method(value, inplace=True)', try using 'df.method({col: value}, inplace=True)' or df[col] = df[col].method(value) instead, to perform the operation inplace on the original object.\n",
      "\n",
      "\n",
      "  df['License_Type'].fillna('No License', inplace=True)\n"
     ]
    }
   ],
   "source": [
    "df['Creation_Date'] = pd.to_datetime(df['Creation_Date']) # convert data type\n",
    "df['Last_Updated_Date'] = pd.to_datetime(df['Last_Updated_Date'])\n",
    "\n",
    "# HANDLING NULL VALUES\n",
    "\n",
    "df = df.replace({np.nan: None})\n",
    "df['Description'].fillna('No Description', inplace=True)\n",
    "df['License_Type'].fillna('No License', inplace=True)\n",
    "\n",
    "# Preview cleaned data\n",
    "print(df.head())"
   ]
  },
  {
   "cell_type": "code",
   "execution_count": 20,
   "metadata": {},
   "outputs": [],
   "source": [
    "df = pd.read_csv(\"github_repositor.csv\")\n",
    "\n",
    "# Convert NaN to None \n",
    "df = df.replace({np.nan: None})\n",
    "\n",
    "df['Creation_Date'] = pd.to_datetime(df['Creation_Date']).dt.date\n",
    "df['Last_Updated_Date'] = pd.to_datetime(df['Last_Updated_Date']).dt.date"
   ]
  },
  {
   "cell_type": "code",
   "execution_count": 29,
   "metadata": {},
   "outputs": [
    {
     "name": "stdout",
     "output_type": "stream",
     "text": [
      "Data saved to MySQL database!\n"
     ]
    }
   ],
   "source": [
    "# Create the repositories table if it doesn't exist\n",
    "create_table_query = \"\"\"\n",
    "CREATE TABLE IF NOT EXISTS reposit (\n",
    "    Repository_Name VARCHAR(255) NOT NULL,\n",
    "    Owner VARCHAR(255) NOT NULL,\n",
    "    Description TEXT,\n",
    "    URL VARCHAR(255) NOT NULL,\n",
    "    Programming_Language VARCHAR(50),\n",
    "    Creation_Date DATE,\n",
    "    Last_Updated_Date DATE,\n",
    "    Number_of_Stars INT,\n",
    "    Number_of_Forks INT,\n",
    "    Number_of_Open_Issues INT,\n",
    "    License_Type VARCHAR(100)\n",
    ");\n",
    "\"\"\"\n",
    "mycursor.execute(create_table_query)\n",
    "\n",
    "# Insert DataFrame into MySQL table\n",
    "insert_query = \"\"\"\n",
    "    INSERT INTO reposit (\n",
    "        Repository_Name, \n",
    "        Owner, \n",
    "        Description, \n",
    "        URL, \n",
    "        Programming_Language, \n",
    "        Creation_Date, \n",
    "        Last_Updated_Date, \n",
    "        Number_of_Stars, \n",
    "        Number_of_Forks, \n",
    "        Number_of_Open_Issues, \n",
    "        License_Type\n",
    "    ) VALUES (%s, %s, %s, %s, %s, %s, %s, %s, %s, %s, %s)\n",
    "\"\"\"\n",
    "\n",
    "for index, row in df.iterrows():\n",
    "    val = (\n",
    "        row['Repository_Name'], \n",
    "        row['Owner'], \n",
    "        row['Description'], \n",
    "        row['URL'], \n",
    "        row['Programming_Language'], \n",
    "        row['Creation_Date'], \n",
    "        row['Last_Updated_Date'], \n",
    "        row['Number_of_Stars'], \n",
    "        row['Number_of_Forks'], \n",
    "        row['Number_of_Open_Issues'], \n",
    "        row['License_Type']\n",
    "    )\n",
    "    \n",
    "    try:\n",
    "        mycursor.execute(insert_query, val)\n",
    "    except mysql.connector.Error as err:\n",
    "        print(f\"Error: {err}\")\n",
    "\n",
    "# Commit the transaction\n",
    "mydb.commit()\n",
    "print(\"Data saved to MySQL database!\")"
   ]
  },
  {
   "cell_type": "code",
   "execution_count": 30,
   "metadata": {},
   "outputs": [
    {
     "name": "stdout",
     "output_type": "stream",
     "text": [
      "Top 5 Programming Languages:\n",
      "Programming_Language\n",
      "Python              89\n",
      "Jupyter Notebook    30\n",
      "C++                 19\n",
      "JavaScript          15\n",
      "TypeScript           9\n",
      "Name: count, dtype: int64\n",
      "\n",
      "Top 5 Starred Repositories:\n",
      "            Repository_Name  Number_of_Stars\n",
      "150          awesome-python           221506\n",
      "151  project-based-learning           200665\n",
      "152                  Python           191326\n",
      "180              tensorflow           186018\n",
      "153              tensorflow           186018\n",
      "\n",
      "Average Stars per Language:\n",
      "Programming_Language\n",
      "Shell     86748.000000\n",
      "Java      48414.000000\n",
      "HTML      41309.500000\n",
      "Python    36801.292135\n",
      "C++       32452.105263\n",
      "Name: Number_of_Stars, dtype: float64\n"
     ]
    }
   ],
   "source": [
    "# Example Analysis\n",
    "\n",
    "# Top 5 prog lang by the number of repositories\n",
    "top_languages = df['Programming_Language'].value_counts().head(5)\n",
    "print(\"Top 5 Programming Languages:\")\n",
    "print(top_languages)\n",
    "\n",
    "# Top 5 repositories with the most stars\n",
    "top_starred_repos = df[['Repository_Name', 'Number_of_Stars']].sort_values(by='Number_of_Stars', ascending=False).head(5)\n",
    "print(\"\\nTop 5 Starred Repositories:\")\n",
    "print(top_starred_repos)\n",
    "\n",
    "# Average number of stars by programming language\n",
    "avg_stars_per_language = df.groupby('Programming_Language')['Number_of_Stars'].mean().sort_values(ascending=False)\n",
    "print(\"\\nAverage Stars per Language:\")\n",
    "print(avg_stars_per_language.head(5))"
   ]
  }
 ],
 "metadata": {
  "kernelspec": {
   "display_name": "Python 3",
   "language": "python",
   "name": "python3"
  },
  "language_info": {
   "codemirror_mode": {
    "name": "ipython",
    "version": 3
   },
   "file_extension": ".py",
   "mimetype": "text/x-python",
   "name": "python",
   "nbconvert_exporter": "python",
   "pygments_lexer": "ipython3",
   "version": "3.12.3"
  }
 },
 "nbformat": 4,
 "nbformat_minor": 2
}
